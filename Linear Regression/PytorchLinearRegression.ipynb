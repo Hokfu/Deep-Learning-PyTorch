{
  "nbformat": 4,
  "nbformat_minor": 0,
  "metadata": {
    "colab": {
      "provenance": []
    },
    "kernelspec": {
      "name": "python3",
      "display_name": "Python 3"
    },
    "language_info": {
      "name": "python"
    }
  },
  "cells": [
    {
      "cell_type": "code",
      "execution_count": 25,
      "metadata": {
        "id": "6BkdzFsNjwaR"
      },
      "outputs": [],
      "source": [
        "import torch\n",
        "from torch import nn\n",
        "import matplotlib.pyplot as plt"
      ]
    },
    {
      "cell_type": "code",
      "source": [
        "class LinearRegression(nn.Module):\n",
        "  def __init__(self):\n",
        "    super().__init__()\n",
        "    self.weights = nn.Parameter(torch.randn(1,\n",
        "                               requires_grad=True,\n",
        "                               dtype=torch.float))\n",
        "    self.bias = nn.Parameter(torch.randn(1,\n",
        "                            requires_grad=True,\n",
        "                            dtype=torch.float))\n",
        "  def forward(self, x : torch.Tensor) -> torch.Tensor:\n",
        "      return self.weights * x + self.bias"
      ],
      "metadata": {
        "id": "KBlrFgyukS_y"
      },
      "execution_count": 26,
      "outputs": []
    },
    {
      "cell_type": "code",
      "source": [
        "model_0 = LinearRegression()\n",
        "list(model_0.parameters())"
      ],
      "metadata": {
        "colab": {
          "base_uri": "https://localhost:8080/"
        },
        "id": "jE1Ydut2owpT",
        "outputId": "d6fd7a70-39a1-49c1-f62a-90f9e5ff4bb1"
      },
      "execution_count": 27,
      "outputs": [
        {
          "output_type": "execute_result",
          "data": {
            "text/plain": [
              "[Parameter containing:\n",
              " tensor([0.4740], requires_grad=True),\n",
              " Parameter containing:\n",
              " tensor([0.1978], requires_grad=True)]"
            ]
          },
          "metadata": {},
          "execution_count": 27
        }
      ]
    },
    {
      "cell_type": "code",
      "source": [
        "model_0.state_dict()"
      ],
      "metadata": {
        "colab": {
          "base_uri": "https://localhost:8080/"
        },
        "id": "gfxnsQL362gm",
        "outputId": "5f4b5ae0-558c-4fc1-d9d1-7ada583c2c7c"
      },
      "execution_count": 28,
      "outputs": [
        {
          "output_type": "execute_result",
          "data": {
            "text/plain": [
              "OrderedDict([('weights', tensor([0.4740])), ('bias', tensor([0.1978]))])"
            ]
          },
          "metadata": {},
          "execution_count": 28
        }
      ]
    },
    {
      "cell_type": "code",
      "source": [
        "loss_fn = nn.L1Loss()\n",
        "\n",
        "optimizer = torch.optim.SGD(params=model_0.parameters(),\n",
        "                            lr=0.01)"
      ],
      "metadata": {
        "id": "qNIkYGTVy4AY"
      },
      "execution_count": 29,
      "outputs": []
    },
    {
      "cell_type": "code",
      "source": [
        "weight = 0.7\n",
        "bias = 0.3\n",
        "\n",
        "start = 0\n",
        "end = 1\n",
        "step = 0.01\n",
        "\n",
        "X = torch.arange(start, end, step).unsqueeze(dim=1)\n",
        "y = weight*X + bias"
      ],
      "metadata": {
        "id": "KOt-gZQhMKBV"
      },
      "execution_count": 30,
      "outputs": []
    },
    {
      "cell_type": "code",
      "source": [
        "train_split = int(0.8*(len(X)))\n",
        "X_train = X[:train_split]\n",
        "X_test = X[train_split:]\n",
        "y_train = y[:train_split]\n",
        "y_test = y[train_split:]\n",
        "len(X_train), len(y_train), len(X_test), len(y_test)"
      ],
      "metadata": {
        "colab": {
          "base_uri": "https://localhost:8080/"
        },
        "id": "F16U-MO3UQuf",
        "outputId": "e72b6329-5ae5-4c6b-8e58-f1feb705c796"
      },
      "execution_count": 31,
      "outputs": [
        {
          "output_type": "execute_result",
          "data": {
            "text/plain": [
              "(80, 80, 20, 20)"
            ]
          },
          "metadata": {},
          "execution_count": 31
        }
      ]
    },
    {
      "cell_type": "code",
      "source": [
        "def plot_predictions(train_data=X_train, train_label=y_train,\n",
        "                     test_data=X_test, test_label=y_test,\n",
        "                     predictions=None):\n",
        "  plt.figure(figsize=(10,10))\n",
        "  plt.scatter(train_data, train_label, c='g', s=4, label=\"train_data\")\n",
        "  plt.scatter(test_data, test_label, c='b', s=4, label='test_data')\n",
        "\n",
        "  if predictions is not None:\n",
        "    plt.scatter(test_data, predictions,c='r',s=4, label='prediction_data')\n",
        "  plt.legend(prop={\"size\":14})"
      ],
      "metadata": {
        "id": "c_NZIjEnUuoq"
      },
      "execution_count": 38,
      "outputs": []
    },
    {
      "cell_type": "code",
      "source": [
        "epochs = 1\n",
        "for epoch in range(epochs):\n",
        "  model_0.train()\n",
        "  y_pred = model_0(X_train)\n",
        "  loss = loss_fn(y_pred, y_train)\n",
        "  optimizer.zero_grad()\n",
        "  loss.backward()\n",
        "  optimizer.step()\n",
        "  model_0.eval() #turn of different settings that is not needed for testing mode\n",
        "  with torch.inference_mode():#turn of gradient tracking\n",
        "    y_pred = model_0(X_test)\n",
        "    y_loss = (loss_fn(test_pred, y_test))"
      ],
      "metadata": {
        "id": "I_zQlcrmbpxi"
      },
      "execution_count": 39,
      "outputs": []
    },
    {
      "cell_type": "code",
      "source": [
        "plot_predictions(predictions=y_pred)"
      ],
      "metadata": {
        "colab": {
          "base_uri": "https://localhost:8080/",
          "height": 830
        },
        "id": "DWXKJfKhXGR7",
        "outputId": "6f1c84a3-caca-4969-e5f1-24baa4e2e7fb"
      },
      "execution_count": 40,
      "outputs": [
        {
          "output_type": "display_data",
          "data": {
            "text/plain": [
              "<Figure size 1000x1000 with 1 Axes>"
            ],
            "image/png": "[encoded data removed]"
          },
          "metadata": {}
        }
      ]
    },
    {
      "cell_type": "markdown",
      "source": [
        "# sample data"
      ],
      "metadata": {
        "id": "5zCim2OLMMzw"
      }
    },
    {
      "cell_type": "code",
      "source": [
        "class LinearRegressionV2(nn.Module):\n",
        "  def __init__(self):\n",
        "    super().__init__()\n",
        "    self.linear_layer = nn.Linear(in_features=1, out_features=1)\n",
        "  def forward(self, x:torch.Tensor) -> torch.Tensor:\n",
        "    return self.linear_layer(x)\n",
        "\n",
        "torch.manual_seed(42)\n",
        "model_1 = LinearRegressionV2()\n",
        "model_1, model_1.state_dict()"
      ],
      "metadata": {
        "id": "FJ-EDCHnbsEv",
        "colab": {
          "base_uri": "https://localhost:8080/"
        },
        "outputId": "69a4cf94-6bed-49b6-97e7-558808907212"
      },
      "execution_count": 61,
      "outputs": [
        {
          "output_type": "execute_result",
          "data": {
            "text/plain": [
              "(LinearRegressionV2(\n",
              "   (linear_layer): Linear(in_features=1, out_features=1, bias=True)\n",
              " ),\n",
              " OrderedDict([('linear_layer.weight', tensor([[0.7645]])),\n",
              "              ('linear_layer.bias', tensor([0.8300]))]))"
            ]
          },
          "metadata": {},
          "execution_count": 61
        }
      ]
    },
    {
      "cell_type": "code",
      "source": [
        "next(model_1.parameters()).device"
      ],
      "metadata": {
        "colab": {
          "base_uri": "https://localhost:8080/"
        },
        "id": "FUND1QGAISrj",
        "outputId": "ae01f02f-ac2c-4d2b-cb90-8d62c835fc72"
      },
      "execution_count": 49,
      "outputs": [
        {
          "output_type": "execute_result",
          "data": {
            "text/plain": [
              "device(type='cpu')"
            ]
          },
          "metadata": {},
          "execution_count": 49
        }
      ]
    },
    {
      "cell_type": "code",
      "source": [
        "device = \"cuda\" if torch.cuda.is_available() else \"cpu\"\n",
        "device"
      ],
      "metadata": {
        "colab": {
          "base_uri": "https://localhost:8080/",
          "height": 35
        },
        "id": "-uJHEL5dLM7I",
        "outputId": "281d0511-8907-4cda-f9b4-43e062cc09c9"
      },
      "execution_count": 50,
      "outputs": [
        {
          "output_type": "execute_result",
          "data": {
            "text/plain": [
              "'cpu'"
            ],
            "application/vnd.google.colaboratory.intrinsic+json": {
              "type": "string"
            }
          },
          "metadata": {},
          "execution_count": 50
        }
      ]
    },
    {
      "cell_type": "code",
      "source": [
        "# Set model to GPU if it's availalble, otherwise it'll default to CPU\n",
        "model_1.to(device) # the device variable was set above to be \"cuda\" if available or \"cpu\" if not\n",
        "next(model_1.parameters()).device"
      ],
      "metadata": {
        "colab": {
          "base_uri": "https://localhost:8080/"
        },
        "id": "FItd08xfK2Xk",
        "outputId": "d3395939-6506-4fd3-c53e-9b005ac24609"
      },
      "execution_count": 51,
      "outputs": [
        {
          "output_type": "execute_result",
          "data": {
            "text/plain": [
              "device(type='cpu')"
            ]
          },
          "metadata": {},
          "execution_count": 51
        }
      ]
    },
    {
      "cell_type": "code",
      "source": [
        "loss_fn = nn.L1Loss()\n",
        "optimizer = torch.optim.SGD(params=model_1.parameters(), lr=0.01)"
      ],
      "metadata": {
        "id": "jwvR-3_7LHPM"
      },
      "execution_count": 63,
      "outputs": []
    },
    {
      "cell_type": "code",
      "source": [
        "torch.manual_seed(42)\n",
        "\n",
        "epoches = 1000\n",
        "\n",
        "X_train = X_train.to(device)\n",
        "X_test = X_test.to(device)\n",
        "y_train = y_train.to(device)\n",
        "y_test = y_test.to(device)\n",
        "\n",
        "for epoch in range(epoches):\n",
        "  model_1.train()\n",
        "\n",
        "  y_pred = model_1(X_train)\n",
        "  #forward pass\n",
        "\n",
        "  loss = loss_fn(y_pred,y_train)\n",
        "  #loss function\n",
        "\n",
        "  optimizer.zero_grad()\n",
        "  #optimizer zero gradient\n",
        "\n",
        "  loss.backward()\n",
        "  #backward propagation\n",
        "\n",
        "  optimizer.step()\n",
        "  #optimizer step\n",
        "\n",
        "  #evaluation\n",
        "  model_1.eval()\n",
        "\n",
        "  with torch.inference_mode():\n",
        "    test_pred = model_1(X_test)\n",
        "    test_loss = loss_fn(test_pred,y_test)\n",
        "\n",
        "  if epoch%100==0:\n",
        "    print(f'Epoch {epoch} | Train Loss {loss} | Test Loss {test_loss}')"
      ],
      "metadata": {
        "colab": {
          "base_uri": "https://localhost:8080/"
        },
        "id": "6y17U2j5L_uU",
        "outputId": "41a4c698-8f69-4e30-d16c-91885722542b"
      },
      "execution_count": 64,
      "outputs": [
        {
          "output_type": "stream",
          "name": "stdout",
          "text": [
            "Epoch 0 | Train Loss 0.5555006265640259 | Test Loss 0.5742346048355103\n",
            "Epoch 100 | Train Loss 0.006589989177882671 | Test Loss 0.014520359225571156\n",
            "Epoch 200 | Train Loss 0.006687174551188946 | Test Loss 0.009153103455901146\n",
            "Epoch 300 | Train Loss 0.006687174551188946 | Test Loss 0.009153103455901146\n",
            "Epoch 400 | Train Loss 0.006687174551188946 | Test Loss 0.009153103455901146\n",
            "Epoch 500 | Train Loss 0.006687174551188946 | Test Loss 0.009153103455901146\n",
            "Epoch 600 | Train Loss 0.006687174551188946 | Test Loss 0.009153103455901146\n",
            "Epoch 700 | Train Loss 0.006687174551188946 | Test Loss 0.009153103455901146\n",
            "Epoch 800 | Train Loss 0.006687174551188946 | Test Loss 0.009153103455901146\n",
            "Epoch 900 | Train Loss 0.006687174551188946 | Test Loss 0.009153103455901146\n"
          ]
        }
      ]
    },
    {
      "cell_type": "code",
      "source": [
        "plot_predictions(predictions=test_pred)"
      ],
      "metadata": {
        "colab": {
          "base_uri": "https://localhost:8080/",
          "height": 830
        },
        "id": "kH9AfTV8bO8q",
        "outputId": "c9421f59-b7ec-4341-be6b-702db2a9f3a5"
      },
      "execution_count": 65,
      "outputs": [
        {
          "output_type": "display_data",
          "data": {
            "text/plain": [
              "<Figure size 1000x1000 with 1 Axes>"
            ],
            "image/png": "[encoded data removed]"
          },
          "metadata": {}
        }
      ]
    },
    {
      "cell_type": "code",
      "source": [],
      "metadata": {
        "id": "HKMzJqEMdC-y"
      },
      "execution_count": null,
      "outputs": []
    }
  ]
}